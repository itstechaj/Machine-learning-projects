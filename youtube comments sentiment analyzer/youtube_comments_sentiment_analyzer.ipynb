{
  "cells": [
    {
      "cell_type": "markdown",
      "source": [
        "##**Youtube Comments Sentiment analysis**\n",
        "> *All the comments are already fetched and stored in a comments_data.csv file*"
      ],
      "metadata": {
        "id": "8jqtPnm2NKMJ"
      },
      "id": "8jqtPnm2NKMJ"
    },
    {
      "cell_type": "markdown",
      "id": "5760afce",
      "metadata": {
        "papermill": {
          "duration": 0.00732,
          "end_time": "2022-09-30T03:58:29.796844",
          "exception": false,
          "start_time": "2022-09-30T03:58:29.789524",
          "status": "completed"
        },
        "tags": [],
        "id": "5760afce"
      },
      "source": [
        "# Datatransformation"
      ]
    },
    {
      "cell_type": "markdown",
      "id": "ab538562",
      "metadata": {
        "papermill": {
          "duration": 0.006856,
          "end_time": "2022-09-30T03:58:29.811210",
          "exception": false,
          "start_time": "2022-09-30T03:58:29.804354",
          "status": "completed"
        },
        "tags": [],
        "id": "ab538562"
      },
      "source": [
        "* **Libraries required**"
      ]
    },
    {
      "cell_type": "code",
      "execution_count": 1,
      "id": "9b487549",
      "metadata": {
        "execution": {
          "iopub.execute_input": "2022-09-30T03:58:29.827839Z",
          "iopub.status.busy": "2022-09-30T03:58:29.827230Z",
          "iopub.status.idle": "2022-09-30T03:58:31.873350Z",
          "shell.execute_reply": "2022-09-30T03:58:31.871942Z"
        },
        "papermill": {
          "duration": 2.057974,
          "end_time": "2022-09-30T03:58:31.876518",
          "exception": false,
          "start_time": "2022-09-30T03:58:29.818544",
          "status": "completed"
        },
        "tags": [],
        "colab": {
          "base_uri": "https://localhost:8080/"
        },
        "id": "9b487549",
        "outputId": "bf03a351-408c-4efe-94cd-f51b38f2e786"
      },
      "outputs": [
        {
          "output_type": "stream",
          "name": "stderr",
          "text": [
            "[nltk_data] Downloading package stopwords to /root/nltk_data...\n",
            "[nltk_data]   Package stopwords is already up-to-date!\n",
            "[nltk_data] Downloading package punkt to /root/nltk_data...\n",
            "[nltk_data]   Package punkt is already up-to-date!\n",
            "[nltk_data] Downloading package wordnet to /root/nltk_data...\n",
            "[nltk_data]   Package wordnet is already up-to-date!\n"
          ]
        }
      ],
      "source": [
        "#Libraries \n",
        "import numpy as np\n",
        "import pandas as pd \n",
        "import matplotlib.pyplot as plt\n",
        "%matplotlib inline\n",
        "import os\n",
        "\n",
        "# Import functions for data preprocessing & data preparation\n",
        "from sklearn.preprocessing import LabelEncoder\n",
        "from sklearn.utils import resample\n",
        "from sklearn.feature_extraction.text import CountVectorizer\n",
        "from nltk.sentiment.vader import SentimentIntensityAnalyzer\n",
        "\n",
        "from nltk.tokenize import word_tokenize\n",
        "from nltk.stem import WordNetLemmatizer\n",
        "from nltk.stem import PorterStemmer, LancasterStemmer\n",
        "from nltk.stem.snowball import SnowballStemmer\n",
        "from nltk.corpus import stopwords\n",
        "from nltk.corpus import wordnet\n",
        "import string\n",
        "from string import punctuation\n",
        "import nltk\n",
        "# important downloads\n",
        "nltk.download('stopwords')\n",
        "nltk.download('punkt')\n",
        "nltk.download('wordnet')\n",
        "import re"
      ]
    },
    {
      "cell_type": "markdown",
      "id": "5dd11013",
      "metadata": {
        "papermill": {
          "duration": 0.006969,
          "end_time": "2022-09-30T03:58:31.891089",
          "exception": false,
          "start_time": "2022-09-30T03:58:31.884120",
          "status": "completed"
        },
        "tags": [],
        "id": "5dd11013"
      },
      "source": [
        "* **Read data**"
      ]
    },
    {
      "cell_type": "code",
      "execution_count": 2,
      "id": "d31585e3",
      "metadata": {
        "execution": {
          "iopub.execute_input": "2022-09-30T03:58:31.910064Z",
          "iopub.status.busy": "2022-09-30T03:58:31.909567Z",
          "iopub.status.idle": "2022-09-30T03:58:31.954451Z",
          "shell.execute_reply": "2022-09-30T03:58:31.952746Z"
        },
        "papermill": {
          "duration": 0.057343,
          "end_time": "2022-09-30T03:58:31.957543",
          "exception": false,
          "start_time": "2022-09-30T03:58:31.900200",
          "status": "completed"
        },
        "tags": [],
        "colab": {
          "base_uri": "https://localhost:8080/",
          "height": 424
        },
        "id": "d31585e3",
        "outputId": "0ece8630-4d89-460a-9d2d-aecb3b2569c4"
      },
      "outputs": [
        {
          "output_type": "execute_result",
          "data": {
            "text/plain": [
              "                                               Comment\n",
              "0    Love how Dr. Fate's design looks and how cool ...\n",
              "1    I can’t get over how good everything looks. Dr...\n",
              "2    Really hoping that this can save DC's movie un...\n",
              "3    U cant deny how good this looks.Now if they ca...\n",
              "4    From this trailer, I have a feeling that this ...\n",
              "..                                                 ...\n",
              "275  I want to see this. It may be one of his most ...\n",
              "276       wow thats very amazing. I can't wait to see.\n",
              "277                    Doctor Fate is why i'm watching\n",
              "278  This looks fire. DC looks like they stepping t...\n",
              "279  Shazam : \"I don't want fight you Black Adam.\"B...\n",
              "\n",
              "[280 rows x 1 columns]"
            ],
            "text/html": [
              "\n",
              "  <div id=\"df-b0fd31b3-630c-4167-8f24-bee2940d4dcf\">\n",
              "    <div class=\"colab-df-container\">\n",
              "      <div>\n",
              "<style scoped>\n",
              "    .dataframe tbody tr th:only-of-type {\n",
              "        vertical-align: middle;\n",
              "    }\n",
              "\n",
              "    .dataframe tbody tr th {\n",
              "        vertical-align: top;\n",
              "    }\n",
              "\n",
              "    .dataframe thead th {\n",
              "        text-align: right;\n",
              "    }\n",
              "</style>\n",
              "<table border=\"1\" class=\"dataframe\">\n",
              "  <thead>\n",
              "    <tr style=\"text-align: right;\">\n",
              "      <th></th>\n",
              "      <th>Comment</th>\n",
              "    </tr>\n",
              "  </thead>\n",
              "  <tbody>\n",
              "    <tr>\n",
              "      <th>0</th>\n",
              "      <td>Love how Dr. Fate's design looks and how cool ...</td>\n",
              "    </tr>\n",
              "    <tr>\n",
              "      <th>1</th>\n",
              "      <td>I can’t get over how good everything looks. Dr...</td>\n",
              "    </tr>\n",
              "    <tr>\n",
              "      <th>2</th>\n",
              "      <td>Really hoping that this can save DC's movie un...</td>\n",
              "    </tr>\n",
              "    <tr>\n",
              "      <th>3</th>\n",
              "      <td>U cant deny how good this looks.Now if they ca...</td>\n",
              "    </tr>\n",
              "    <tr>\n",
              "      <th>4</th>\n",
              "      <td>From this trailer, I have a feeling that this ...</td>\n",
              "    </tr>\n",
              "    <tr>\n",
              "      <th>...</th>\n",
              "      <td>...</td>\n",
              "    </tr>\n",
              "    <tr>\n",
              "      <th>275</th>\n",
              "      <td>I want to see this. It may be one of his most ...</td>\n",
              "    </tr>\n",
              "    <tr>\n",
              "      <th>276</th>\n",
              "      <td>wow thats very amazing. I can't wait to see.</td>\n",
              "    </tr>\n",
              "    <tr>\n",
              "      <th>277</th>\n",
              "      <td>Doctor Fate is why i'm watching</td>\n",
              "    </tr>\n",
              "    <tr>\n",
              "      <th>278</th>\n",
              "      <td>This looks fire. DC looks like they stepping t...</td>\n",
              "    </tr>\n",
              "    <tr>\n",
              "      <th>279</th>\n",
              "      <td>Shazam : \"I don't want fight you Black Adam.\"B...</td>\n",
              "    </tr>\n",
              "  </tbody>\n",
              "</table>\n",
              "<p>280 rows × 1 columns</p>\n",
              "</div>\n",
              "      <button class=\"colab-df-convert\" onclick=\"convertToInteractive('df-b0fd31b3-630c-4167-8f24-bee2940d4dcf')\"\n",
              "              title=\"Convert this dataframe to an interactive table.\"\n",
              "              style=\"display:none;\">\n",
              "        \n",
              "  <svg xmlns=\"http://www.w3.org/2000/svg\" height=\"24px\"viewBox=\"0 0 24 24\"\n",
              "       width=\"24px\">\n",
              "    <path d=\"M0 0h24v24H0V0z\" fill=\"none\"/>\n",
              "    <path d=\"M18.56 5.44l.94 2.06.94-2.06 2.06-.94-2.06-.94-.94-2.06-.94 2.06-2.06.94zm-11 1L8.5 8.5l.94-2.06 2.06-.94-2.06-.94L8.5 2.5l-.94 2.06-2.06.94zm10 10l.94 2.06.94-2.06 2.06-.94-2.06-.94-.94-2.06-.94 2.06-2.06.94z\"/><path d=\"M17.41 7.96l-1.37-1.37c-.4-.4-.92-.59-1.43-.59-.52 0-1.04.2-1.43.59L10.3 9.45l-7.72 7.72c-.78.78-.78 2.05 0 2.83L4 21.41c.39.39.9.59 1.41.59.51 0 1.02-.2 1.41-.59l7.78-7.78 2.81-2.81c.8-.78.8-2.07 0-2.86zM5.41 20L4 18.59l7.72-7.72 1.47 1.35L5.41 20z\"/>\n",
              "  </svg>\n",
              "      </button>\n",
              "      \n",
              "  <style>\n",
              "    .colab-df-container {\n",
              "      display:flex;\n",
              "      flex-wrap:wrap;\n",
              "      gap: 12px;\n",
              "    }\n",
              "\n",
              "    .colab-df-convert {\n",
              "      background-color: #E8F0FE;\n",
              "      border: none;\n",
              "      border-radius: 50%;\n",
              "      cursor: pointer;\n",
              "      display: none;\n",
              "      fill: #1967D2;\n",
              "      height: 32px;\n",
              "      padding: 0 0 0 0;\n",
              "      width: 32px;\n",
              "    }\n",
              "\n",
              "    .colab-df-convert:hover {\n",
              "      background-color: #E2EBFA;\n",
              "      box-shadow: 0px 1px 2px rgba(60, 64, 67, 0.3), 0px 1px 3px 1px rgba(60, 64, 67, 0.15);\n",
              "      fill: #174EA6;\n",
              "    }\n",
              "\n",
              "    [theme=dark] .colab-df-convert {\n",
              "      background-color: #3B4455;\n",
              "      fill: #D2E3FC;\n",
              "    }\n",
              "\n",
              "    [theme=dark] .colab-df-convert:hover {\n",
              "      background-color: #434B5C;\n",
              "      box-shadow: 0px 1px 3px 1px rgba(0, 0, 0, 0.15);\n",
              "      filter: drop-shadow(0px 1px 2px rgba(0, 0, 0, 0.3));\n",
              "      fill: #FFFFFF;\n",
              "    }\n",
              "  </style>\n",
              "\n",
              "      <script>\n",
              "        const buttonEl =\n",
              "          document.querySelector('#df-b0fd31b3-630c-4167-8f24-bee2940d4dcf button.colab-df-convert');\n",
              "        buttonEl.style.display =\n",
              "          google.colab.kernel.accessAllowed ? 'block' : 'none';\n",
              "\n",
              "        async function convertToInteractive(key) {\n",
              "          const element = document.querySelector('#df-b0fd31b3-630c-4167-8f24-bee2940d4dcf');\n",
              "          const dataTable =\n",
              "            await google.colab.kernel.invokeFunction('convertToInteractive',\n",
              "                                                     [key], {});\n",
              "          if (!dataTable) return;\n",
              "\n",
              "          const docLinkHtml = 'Like what you see? Visit the ' +\n",
              "            '<a target=\"_blank\" href=https://colab.research.google.com/notebooks/data_table.ipynb>data table notebook</a>'\n",
              "            + ' to learn more about interactive tables.';\n",
              "          element.innerHTML = '';\n",
              "          dataTable['output_type'] = 'display_data';\n",
              "          await google.colab.output.renderOutput(dataTable, element);\n",
              "          const docLink = document.createElement('div');\n",
              "          docLink.innerHTML = docLinkHtml;\n",
              "          element.appendChild(docLink);\n",
              "        }\n",
              "      </script>\n",
              "    </div>\n",
              "  </div>\n",
              "  "
            ]
          },
          "metadata": {},
          "execution_count": 2
        }
      ],
      "source": [
        "data = pd.read_csv('/content/comments_data.csv')\n",
        "data.columns\n",
        "data1=data.drop(['Unnamed: 0','Likes','Time','user','UserLink'],axis=1)\n",
        "data1"
      ]
    },
    {
      "cell_type": "markdown",
      "id": "f9ae7728",
      "metadata": {
        "papermill": {
          "duration": 0.007332,
          "end_time": "2022-09-30T03:58:31.972749",
          "exception": false,
          "start_time": "2022-09-30T03:58:31.965417",
          "status": "completed"
        },
        "tags": [],
        "id": "f9ae7728"
      },
      "source": [
        "* **Data labelling**"
      ]
    },
    {
      "cell_type": "code",
      "execution_count": 3,
      "id": "771e9208",
      "metadata": {
        "execution": {
          "iopub.execute_input": "2022-09-30T03:58:31.990695Z",
          "iopub.status.busy": "2022-09-30T03:58:31.990229Z",
          "iopub.status.idle": "2022-09-30T03:58:32.536210Z",
          "shell.execute_reply": "2022-09-30T03:58:32.534890Z"
        },
        "papermill": {
          "duration": 0.558513,
          "end_time": "2022-09-30T03:58:32.539262",
          "exception": false,
          "start_time": "2022-09-30T03:58:31.980749",
          "status": "completed"
        },
        "tags": [],
        "colab": {
          "base_uri": "https://localhost:8080/",
          "height": 242
        },
        "id": "771e9208",
        "outputId": "c0f08521-16ed-4501-e7f9-f40ec5aef852"
      },
      "outputs": [
        {
          "output_type": "stream",
          "name": "stderr",
          "text": [
            "[nltk_data] Downloading package vader_lexicon to /root/nltk_data...\n",
            "[nltk_data]   Package vader_lexicon is already up-to-date!\n"
          ]
        },
        {
          "output_type": "execute_result",
          "data": {
            "text/plain": [
              "                                             Comment  Positive  Negative  \\\n",
              "0  Love how Dr. Fate's design looks and how cool ...     0.384     0.000   \n",
              "1  I can’t get over how good everything looks. Dr...     0.153     0.000   \n",
              "2  Really hoping that this can save DC's movie un...     0.375     0.000   \n",
              "3  U cant deny how good this looks.Now if they ca...     0.302     0.049   \n",
              "4  From this trailer, I have a feeling that this ...     0.131     0.000   \n",
              "\n",
              "   Neutral  Compound Sentiment  \n",
              "0    0.616    0.8910  Positive  \n",
              "1    0.847    0.6801  Positive  \n",
              "2    0.625    0.9216  Positive  \n",
              "3    0.649    0.9262  Positive  \n",
              "4    0.869    0.4416  Positive  "
            ],
            "text/html": [
              "\n",
              "  <div id=\"df-10c5f2ae-e028-4c02-9a74-47455e1822bc\">\n",
              "    <div class=\"colab-df-container\">\n",
              "      <div>\n",
              "<style scoped>\n",
              "    .dataframe tbody tr th:only-of-type {\n",
              "        vertical-align: middle;\n",
              "    }\n",
              "\n",
              "    .dataframe tbody tr th {\n",
              "        vertical-align: top;\n",
              "    }\n",
              "\n",
              "    .dataframe thead th {\n",
              "        text-align: right;\n",
              "    }\n",
              "</style>\n",
              "<table border=\"1\" class=\"dataframe\">\n",
              "  <thead>\n",
              "    <tr style=\"text-align: right;\">\n",
              "      <th></th>\n",
              "      <th>Comment</th>\n",
              "      <th>Positive</th>\n",
              "      <th>Negative</th>\n",
              "      <th>Neutral</th>\n",
              "      <th>Compound</th>\n",
              "      <th>Sentiment</th>\n",
              "    </tr>\n",
              "  </thead>\n",
              "  <tbody>\n",
              "    <tr>\n",
              "      <th>0</th>\n",
              "      <td>Love how Dr. Fate's design looks and how cool ...</td>\n",
              "      <td>0.384</td>\n",
              "      <td>0.000</td>\n",
              "      <td>0.616</td>\n",
              "      <td>0.8910</td>\n",
              "      <td>Positive</td>\n",
              "    </tr>\n",
              "    <tr>\n",
              "      <th>1</th>\n",
              "      <td>I can’t get over how good everything looks. Dr...</td>\n",
              "      <td>0.153</td>\n",
              "      <td>0.000</td>\n",
              "      <td>0.847</td>\n",
              "      <td>0.6801</td>\n",
              "      <td>Positive</td>\n",
              "    </tr>\n",
              "    <tr>\n",
              "      <th>2</th>\n",
              "      <td>Really hoping that this can save DC's movie un...</td>\n",
              "      <td>0.375</td>\n",
              "      <td>0.000</td>\n",
              "      <td>0.625</td>\n",
              "      <td>0.9216</td>\n",
              "      <td>Positive</td>\n",
              "    </tr>\n",
              "    <tr>\n",
              "      <th>3</th>\n",
              "      <td>U cant deny how good this looks.Now if they ca...</td>\n",
              "      <td>0.302</td>\n",
              "      <td>0.049</td>\n",
              "      <td>0.649</td>\n",
              "      <td>0.9262</td>\n",
              "      <td>Positive</td>\n",
              "    </tr>\n",
              "    <tr>\n",
              "      <th>4</th>\n",
              "      <td>From this trailer, I have a feeling that this ...</td>\n",
              "      <td>0.131</td>\n",
              "      <td>0.000</td>\n",
              "      <td>0.869</td>\n",
              "      <td>0.4416</td>\n",
              "      <td>Positive</td>\n",
              "    </tr>\n",
              "  </tbody>\n",
              "</table>\n",
              "</div>\n",
              "      <button class=\"colab-df-convert\" onclick=\"convertToInteractive('df-10c5f2ae-e028-4c02-9a74-47455e1822bc')\"\n",
              "              title=\"Convert this dataframe to an interactive table.\"\n",
              "              style=\"display:none;\">\n",
              "        \n",
              "  <svg xmlns=\"http://www.w3.org/2000/svg\" height=\"24px\"viewBox=\"0 0 24 24\"\n",
              "       width=\"24px\">\n",
              "    <path d=\"M0 0h24v24H0V0z\" fill=\"none\"/>\n",
              "    <path d=\"M18.56 5.44l.94 2.06.94-2.06 2.06-.94-2.06-.94-.94-2.06-.94 2.06-2.06.94zm-11 1L8.5 8.5l.94-2.06 2.06-.94-2.06-.94L8.5 2.5l-.94 2.06-2.06.94zm10 10l.94 2.06.94-2.06 2.06-.94-2.06-.94-.94-2.06-.94 2.06-2.06.94z\"/><path d=\"M17.41 7.96l-1.37-1.37c-.4-.4-.92-.59-1.43-.59-.52 0-1.04.2-1.43.59L10.3 9.45l-7.72 7.72c-.78.78-.78 2.05 0 2.83L4 21.41c.39.39.9.59 1.41.59.51 0 1.02-.2 1.41-.59l7.78-7.78 2.81-2.81c.8-.78.8-2.07 0-2.86zM5.41 20L4 18.59l7.72-7.72 1.47 1.35L5.41 20z\"/>\n",
              "  </svg>\n",
              "      </button>\n",
              "      \n",
              "  <style>\n",
              "    .colab-df-container {\n",
              "      display:flex;\n",
              "      flex-wrap:wrap;\n",
              "      gap: 12px;\n",
              "    }\n",
              "\n",
              "    .colab-df-convert {\n",
              "      background-color: #E8F0FE;\n",
              "      border: none;\n",
              "      border-radius: 50%;\n",
              "      cursor: pointer;\n",
              "      display: none;\n",
              "      fill: #1967D2;\n",
              "      height: 32px;\n",
              "      padding: 0 0 0 0;\n",
              "      width: 32px;\n",
              "    }\n",
              "\n",
              "    .colab-df-convert:hover {\n",
              "      background-color: #E2EBFA;\n",
              "      box-shadow: 0px 1px 2px rgba(60, 64, 67, 0.3), 0px 1px 3px 1px rgba(60, 64, 67, 0.15);\n",
              "      fill: #174EA6;\n",
              "    }\n",
              "\n",
              "    [theme=dark] .colab-df-convert {\n",
              "      background-color: #3B4455;\n",
              "      fill: #D2E3FC;\n",
              "    }\n",
              "\n",
              "    [theme=dark] .colab-df-convert:hover {\n",
              "      background-color: #434B5C;\n",
              "      box-shadow: 0px 1px 3px 1px rgba(0, 0, 0, 0.15);\n",
              "      filter: drop-shadow(0px 1px 2px rgba(0, 0, 0, 0.3));\n",
              "      fill: #FFFFFF;\n",
              "    }\n",
              "  </style>\n",
              "\n",
              "      <script>\n",
              "        const buttonEl =\n",
              "          document.querySelector('#df-10c5f2ae-e028-4c02-9a74-47455e1822bc button.colab-df-convert');\n",
              "        buttonEl.style.display =\n",
              "          google.colab.kernel.accessAllowed ? 'block' : 'none';\n",
              "\n",
              "        async function convertToInteractive(key) {\n",
              "          const element = document.querySelector('#df-10c5f2ae-e028-4c02-9a74-47455e1822bc');\n",
              "          const dataTable =\n",
              "            await google.colab.kernel.invokeFunction('convertToInteractive',\n",
              "                                                     [key], {});\n",
              "          if (!dataTable) return;\n",
              "\n",
              "          const docLinkHtml = 'Like what you see? Visit the ' +\n",
              "            '<a target=\"_blank\" href=https://colab.research.google.com/notebooks/data_table.ipynb>data table notebook</a>'\n",
              "            + ' to learn more about interactive tables.';\n",
              "          element.innerHTML = '';\n",
              "          dataTable['output_type'] = 'display_data';\n",
              "          await google.colab.output.renderOutput(dataTable, element);\n",
              "          const docLink = document.createElement('div');\n",
              "          docLink.innerHTML = docLinkHtml;\n",
              "          element.appendChild(docLink);\n",
              "        }\n",
              "      </script>\n",
              "    </div>\n",
              "  </div>\n",
              "  "
            ]
          },
          "metadata": {},
          "execution_count": 3
        }
      ],
      "source": [
        "nltk.download('vader_lexicon')\n",
        "sentiments = SentimentIntensityAnalyzer()\n",
        "data1[\"Positive\"] = [sentiments.polarity_scores(i)[\"pos\"] for i in data1[\"Comment\"]]\n",
        "data1[\"Negative\"] = [sentiments.polarity_scores(i)[\"neg\"] for i in data1[\"Comment\"]]\n",
        "data1[\"Neutral\"] = [sentiments.polarity_scores(i)[\"neu\"] for i in data1[\"Comment\"]]\n",
        "data1['Compound'] = [sentiments.polarity_scores(i)[\"compound\"] for i in data1[\"Comment\"]]\n",
        "score = data1[\"Compound\"].values\n",
        "sentiment = []\n",
        "for i in score:\n",
        "    if i >= 0.05 :\n",
        "        sentiment.append('Positive')\n",
        "    elif i <= -0.05 :\n",
        "        sentiment.append('Negative')\n",
        "    else:\n",
        "        sentiment.append('Neutral')\n",
        "data1[\"Sentiment\"] = sentiment\n",
        "data1.head()"
      ]
    },
    {
      "cell_type": "markdown",
      "id": "bbf8e44d",
      "metadata": {
        "papermill": {
          "duration": 0.008146,
          "end_time": "2022-09-30T03:58:32.555850",
          "exception": false,
          "start_time": "2022-09-30T03:58:32.547704",
          "status": "completed"
        },
        "tags": [],
        "id": "bbf8e44d"
      },
      "source": [
        "* **Final data**"
      ]
    },
    {
      "cell_type": "code",
      "execution_count": 4,
      "id": "8d8b85a5",
      "metadata": {
        "execution": {
          "iopub.execute_input": "2022-09-30T03:58:32.574215Z",
          "iopub.status.busy": "2022-09-30T03:58:32.573700Z",
          "iopub.status.idle": "2022-09-30T03:58:32.590306Z",
          "shell.execute_reply": "2022-09-30T03:58:32.588730Z"
        },
        "papermill": {
          "duration": 0.03055,
          "end_time": "2022-09-30T03:58:32.594690",
          "exception": false,
          "start_time": "2022-09-30T03:58:32.564140",
          "status": "completed"
        },
        "tags": [],
        "colab": {
          "base_uri": "https://localhost:8080/",
          "height": 206
        },
        "id": "8d8b85a5",
        "outputId": "3e277fec-8605-42ff-92b7-eb72ca43291d"
      },
      "outputs": [
        {
          "output_type": "execute_result",
          "data": {
            "text/plain": [
              "                                             Comment Sentiment\n",
              "0  Love how Dr. Fate's design looks and how cool ...  Positive\n",
              "1  I can’t get over how good everything looks. Dr...  Positive\n",
              "2  Really hoping that this can save DC's movie un...  Positive\n",
              "3  U cant deny how good this looks.Now if they ca...  Positive\n",
              "4  From this trailer, I have a feeling that this ...  Positive"
            ],
            "text/html": [
              "\n",
              "  <div id=\"df-e90a6c8b-ca57-48a9-9ebb-9f145df84aa5\">\n",
              "    <div class=\"colab-df-container\">\n",
              "      <div>\n",
              "<style scoped>\n",
              "    .dataframe tbody tr th:only-of-type {\n",
              "        vertical-align: middle;\n",
              "    }\n",
              "\n",
              "    .dataframe tbody tr th {\n",
              "        vertical-align: top;\n",
              "    }\n",
              "\n",
              "    .dataframe thead th {\n",
              "        text-align: right;\n",
              "    }\n",
              "</style>\n",
              "<table border=\"1\" class=\"dataframe\">\n",
              "  <thead>\n",
              "    <tr style=\"text-align: right;\">\n",
              "      <th></th>\n",
              "      <th>Comment</th>\n",
              "      <th>Sentiment</th>\n",
              "    </tr>\n",
              "  </thead>\n",
              "  <tbody>\n",
              "    <tr>\n",
              "      <th>0</th>\n",
              "      <td>Love how Dr. Fate's design looks and how cool ...</td>\n",
              "      <td>Positive</td>\n",
              "    </tr>\n",
              "    <tr>\n",
              "      <th>1</th>\n",
              "      <td>I can’t get over how good everything looks. Dr...</td>\n",
              "      <td>Positive</td>\n",
              "    </tr>\n",
              "    <tr>\n",
              "      <th>2</th>\n",
              "      <td>Really hoping that this can save DC's movie un...</td>\n",
              "      <td>Positive</td>\n",
              "    </tr>\n",
              "    <tr>\n",
              "      <th>3</th>\n",
              "      <td>U cant deny how good this looks.Now if they ca...</td>\n",
              "      <td>Positive</td>\n",
              "    </tr>\n",
              "    <tr>\n",
              "      <th>4</th>\n",
              "      <td>From this trailer, I have a feeling that this ...</td>\n",
              "      <td>Positive</td>\n",
              "    </tr>\n",
              "  </tbody>\n",
              "</table>\n",
              "</div>\n",
              "      <button class=\"colab-df-convert\" onclick=\"convertToInteractive('df-e90a6c8b-ca57-48a9-9ebb-9f145df84aa5')\"\n",
              "              title=\"Convert this dataframe to an interactive table.\"\n",
              "              style=\"display:none;\">\n",
              "        \n",
              "  <svg xmlns=\"http://www.w3.org/2000/svg\" height=\"24px\"viewBox=\"0 0 24 24\"\n",
              "       width=\"24px\">\n",
              "    <path d=\"M0 0h24v24H0V0z\" fill=\"none\"/>\n",
              "    <path d=\"M18.56 5.44l.94 2.06.94-2.06 2.06-.94-2.06-.94-.94-2.06-.94 2.06-2.06.94zm-11 1L8.5 8.5l.94-2.06 2.06-.94-2.06-.94L8.5 2.5l-.94 2.06-2.06.94zm10 10l.94 2.06.94-2.06 2.06-.94-2.06-.94-.94-2.06-.94 2.06-2.06.94z\"/><path d=\"M17.41 7.96l-1.37-1.37c-.4-.4-.92-.59-1.43-.59-.52 0-1.04.2-1.43.59L10.3 9.45l-7.72 7.72c-.78.78-.78 2.05 0 2.83L4 21.41c.39.39.9.59 1.41.59.51 0 1.02-.2 1.41-.59l7.78-7.78 2.81-2.81c.8-.78.8-2.07 0-2.86zM5.41 20L4 18.59l7.72-7.72 1.47 1.35L5.41 20z\"/>\n",
              "  </svg>\n",
              "      </button>\n",
              "      \n",
              "  <style>\n",
              "    .colab-df-container {\n",
              "      display:flex;\n",
              "      flex-wrap:wrap;\n",
              "      gap: 12px;\n",
              "    }\n",
              "\n",
              "    .colab-df-convert {\n",
              "      background-color: #E8F0FE;\n",
              "      border: none;\n",
              "      border-radius: 50%;\n",
              "      cursor: pointer;\n",
              "      display: none;\n",
              "      fill: #1967D2;\n",
              "      height: 32px;\n",
              "      padding: 0 0 0 0;\n",
              "      width: 32px;\n",
              "    }\n",
              "\n",
              "    .colab-df-convert:hover {\n",
              "      background-color: #E2EBFA;\n",
              "      box-shadow: 0px 1px 2px rgba(60, 64, 67, 0.3), 0px 1px 3px 1px rgba(60, 64, 67, 0.15);\n",
              "      fill: #174EA6;\n",
              "    }\n",
              "\n",
              "    [theme=dark] .colab-df-convert {\n",
              "      background-color: #3B4455;\n",
              "      fill: #D2E3FC;\n",
              "    }\n",
              "\n",
              "    [theme=dark] .colab-df-convert:hover {\n",
              "      background-color: #434B5C;\n",
              "      box-shadow: 0px 1px 3px 1px rgba(0, 0, 0, 0.15);\n",
              "      filter: drop-shadow(0px 1px 2px rgba(0, 0, 0, 0.3));\n",
              "      fill: #FFFFFF;\n",
              "    }\n",
              "  </style>\n",
              "\n",
              "      <script>\n",
              "        const buttonEl =\n",
              "          document.querySelector('#df-e90a6c8b-ca57-48a9-9ebb-9f145df84aa5 button.colab-df-convert');\n",
              "        buttonEl.style.display =\n",
              "          google.colab.kernel.accessAllowed ? 'block' : 'none';\n",
              "\n",
              "        async function convertToInteractive(key) {\n",
              "          const element = document.querySelector('#df-e90a6c8b-ca57-48a9-9ebb-9f145df84aa5');\n",
              "          const dataTable =\n",
              "            await google.colab.kernel.invokeFunction('convertToInteractive',\n",
              "                                                     [key], {});\n",
              "          if (!dataTable) return;\n",
              "\n",
              "          const docLinkHtml = 'Like what you see? Visit the ' +\n",
              "            '<a target=\"_blank\" href=https://colab.research.google.com/notebooks/data_table.ipynb>data table notebook</a>'\n",
              "            + ' to learn more about interactive tables.';\n",
              "          element.innerHTML = '';\n",
              "          dataTable['output_type'] = 'display_data';\n",
              "          await google.colab.output.renderOutput(dataTable, element);\n",
              "          const docLink = document.createElement('div');\n",
              "          docLink.innerHTML = docLinkHtml;\n",
              "          element.appendChild(docLink);\n",
              "        }\n",
              "      </script>\n",
              "    </div>\n",
              "  </div>\n",
              "  "
            ]
          },
          "metadata": {},
          "execution_count": 4
        }
      ],
      "source": [
        "data2=data1.drop(['Positive','Negative','Neutral','Compound'],axis=1)\n",
        "data2.head()"
      ]
    },
    {
      "cell_type": "markdown",
      "id": "71a3ff7c",
      "metadata": {
        "papermill": {
          "duration": 0.007928,
          "end_time": "2022-09-30T03:58:32.611842",
          "exception": false,
          "start_time": "2022-09-30T03:58:32.603914",
          "status": "completed"
        },
        "tags": [],
        "id": "71a3ff7c"
      },
      "source": [
        "* **Data transformation**"
      ]
    },
    {
      "cell_type": "code",
      "execution_count": 5,
      "id": "49e3eb6a",
      "metadata": {
        "execution": {
          "iopub.execute_input": "2022-09-30T03:58:32.630800Z",
          "iopub.status.busy": "2022-09-30T03:58:32.630195Z",
          "iopub.status.idle": "2022-09-30T03:58:32.642756Z",
          "shell.execute_reply": "2022-09-30T03:58:32.641299Z"
        },
        "papermill": {
          "duration": 0.025568,
          "end_time": "2022-09-30T03:58:32.645712",
          "exception": false,
          "start_time": "2022-09-30T03:58:32.620144",
          "status": "completed"
        },
        "tags": [],
        "id": "49e3eb6a"
      },
      "outputs": [],
      "source": [
        "stop_words = stopwords.words('english')\n",
        "porter_stemmer = PorterStemmer()\n",
        "lancaster_stemmer = LancasterStemmer() \n",
        "snowball_stemer = SnowballStemmer(language=\"english\")\n",
        "lzr = WordNetLemmatizer()"
      ]
    },
    {
      "cell_type": "code",
      "execution_count": 6,
      "id": "43dc397b",
      "metadata": {
        "execution": {
          "iopub.execute_input": "2022-09-30T03:58:32.664853Z",
          "iopub.status.busy": "2022-09-30T03:58:32.664120Z",
          "iopub.status.idle": "2022-09-30T03:58:32.671665Z",
          "shell.execute_reply": "2022-09-30T03:58:32.670853Z"
        },
        "papermill": {
          "duration": 0.019897,
          "end_time": "2022-09-30T03:58:32.674206",
          "exception": false,
          "start_time": "2022-09-30T03:58:32.654309",
          "status": "completed"
        },
        "tags": [],
        "id": "43dc397b"
      },
      "outputs": [],
      "source": [
        "def text_processing(text):   \n",
        "    # convert text into lowercase\n",
        "    text = text.lower()\n",
        "\n",
        "    # remove new line characters in text\n",
        "    text = re.sub(r'\\n',' ', text)\n",
        "    \n",
        "    # remove punctuations from text\n",
        "    text = re.sub('[%s]' % re.escape(punctuation), \"\", text)\n",
        "    \n",
        "    # remove references and hashtags from text\n",
        "    text = re.sub(\"^a-zA-Z0-9$,.\", \"\", text)\n",
        "    \n",
        "    # remove multiple spaces from text\n",
        "    text = re.sub(r'\\s+', ' ', text, flags=re.I)\n",
        "    \n",
        "    # remove special characters from text\n",
        "    text = re.sub(r'\\W', ' ', text)\n",
        "\n",
        "    text = ' '.join([word for word in word_tokenize(text) if word not in stop_words])\n",
        "    \n",
        "    # stemming using porter stemmer from nltk package - msh a7sn 7aga - momken: lancaster, snowball\n",
        "    # text=' '.join([porter_stemmer.stem(word) for word in word_tokenize(text)])\n",
        "    # text=' '.join([lancaster_stemmer.stem(word) for word in word_tokenize(text)])\n",
        "    # text=' '.join([snowball_stemer.stem(word) for word in word_tokenize(text)])\n",
        "    \n",
        "    # lemmatizer using WordNetLemmatizer from nltk package\n",
        "    text=' '.join([lzr.lemmatize(word) for word in word_tokenize(text)])\n",
        "\n",
        "    return text"
      ]
    },
    {
      "cell_type": "code",
      "execution_count": 7,
      "id": "ba67e633",
      "metadata": {
        "execution": {
          "iopub.execute_input": "2022-09-30T03:58:32.692887Z",
          "iopub.status.busy": "2022-09-30T03:58:32.692229Z",
          "iopub.status.idle": "2022-09-30T03:58:35.272525Z",
          "shell.execute_reply": "2022-09-30T03:58:35.271169Z"
        },
        "papermill": {
          "duration": 2.592953,
          "end_time": "2022-09-30T03:58:35.275522",
          "exception": false,
          "start_time": "2022-09-30T03:58:32.682569",
          "status": "completed"
        },
        "tags": [],
        "colab": {
          "base_uri": "https://localhost:8080/"
        },
        "id": "ba67e633",
        "outputId": "bb3bccbc-c573-4994-c3cd-9809a7c67181"
      },
      "outputs": [
        {
          "output_type": "stream",
          "name": "stderr",
          "text": [
            "[nltk_data] Downloading package omw-1.4 to /root/nltk_data...\n",
            "[nltk_data]   Package omw-1.4 is already up-to-date!\n"
          ]
        }
      ],
      "source": [
        "nltk.download('omw-1.4')\n",
        "data_copy = data2.copy()\n",
        "data_copy.Comment = data_copy.Comment.apply(lambda text: text_processing(text))"
      ]
    },
    {
      "cell_type": "code",
      "execution_count": 8,
      "id": "470e1a0a",
      "metadata": {
        "execution": {
          "iopub.execute_input": "2022-09-30T03:58:35.295253Z",
          "iopub.status.busy": "2022-09-30T03:58:35.294756Z",
          "iopub.status.idle": "2022-09-30T03:58:35.301359Z",
          "shell.execute_reply": "2022-09-30T03:58:35.300315Z"
        },
        "papermill": {
          "duration": 0.019857,
          "end_time": "2022-09-30T03:58:35.303744",
          "exception": false,
          "start_time": "2022-09-30T03:58:35.283887",
          "status": "completed"
        },
        "tags": [],
        "id": "470e1a0a"
      },
      "outputs": [],
      "source": [
        "le = LabelEncoder()\n",
        "data_copy['Sentiment'] = le.fit_transform(data_copy['Sentiment'])"
      ]
    },
    {
      "cell_type": "code",
      "execution_count": 9,
      "id": "e85e43ca",
      "metadata": {
        "execution": {
          "iopub.execute_input": "2022-09-30T03:58:35.322568Z",
          "iopub.status.busy": "2022-09-30T03:58:35.322152Z",
          "iopub.status.idle": "2022-09-30T03:58:35.334657Z",
          "shell.execute_reply": "2022-09-30T03:58:35.333606Z"
        },
        "papermill": {
          "duration": 0.024592,
          "end_time": "2022-09-30T03:58:35.337112",
          "exception": false,
          "start_time": "2022-09-30T03:58:35.312520",
          "status": "completed"
        },
        "tags": [],
        "colab": {
          "base_uri": "https://localhost:8080/",
          "height": 206
        },
        "id": "e85e43ca",
        "outputId": "f8239739-a536-473c-dd47-4a466a9a60db"
      },
      "outputs": [
        {
          "output_type": "execute_result",
          "data": {
            "text/plain": [
              "                                            Sentence  Sentiment\n",
              "0  love dr fate design look cool scene look power...          2\n",
              "1  get good everything look dr fate magic cyclone...          2\n",
              "2  really hoping save dc movie universe looking n...          2\n",
              "3  u cant deny good looksnow follow rest movie go...          2\n",
              "4  trailer feeling movie going one movie would ne...          2"
            ],
            "text/html": [
              "\n",
              "  <div id=\"df-b2f76285-70f7-41c4-a974-0a3dd57f988a\">\n",
              "    <div class=\"colab-df-container\">\n",
              "      <div>\n",
              "<style scoped>\n",
              "    .dataframe tbody tr th:only-of-type {\n",
              "        vertical-align: middle;\n",
              "    }\n",
              "\n",
              "    .dataframe tbody tr th {\n",
              "        vertical-align: top;\n",
              "    }\n",
              "\n",
              "    .dataframe thead th {\n",
              "        text-align: right;\n",
              "    }\n",
              "</style>\n",
              "<table border=\"1\" class=\"dataframe\">\n",
              "  <thead>\n",
              "    <tr style=\"text-align: right;\">\n",
              "      <th></th>\n",
              "      <th>Sentence</th>\n",
              "      <th>Sentiment</th>\n",
              "    </tr>\n",
              "  </thead>\n",
              "  <tbody>\n",
              "    <tr>\n",
              "      <th>0</th>\n",
              "      <td>love dr fate design look cool scene look power...</td>\n",
              "      <td>2</td>\n",
              "    </tr>\n",
              "    <tr>\n",
              "      <th>1</th>\n",
              "      <td>get good everything look dr fate magic cyclone...</td>\n",
              "      <td>2</td>\n",
              "    </tr>\n",
              "    <tr>\n",
              "      <th>2</th>\n",
              "      <td>really hoping save dc movie universe looking n...</td>\n",
              "      <td>2</td>\n",
              "    </tr>\n",
              "    <tr>\n",
              "      <th>3</th>\n",
              "      <td>u cant deny good looksnow follow rest movie go...</td>\n",
              "      <td>2</td>\n",
              "    </tr>\n",
              "    <tr>\n",
              "      <th>4</th>\n",
              "      <td>trailer feeling movie going one movie would ne...</td>\n",
              "      <td>2</td>\n",
              "    </tr>\n",
              "  </tbody>\n",
              "</table>\n",
              "</div>\n",
              "      <button class=\"colab-df-convert\" onclick=\"convertToInteractive('df-b2f76285-70f7-41c4-a974-0a3dd57f988a')\"\n",
              "              title=\"Convert this dataframe to an interactive table.\"\n",
              "              style=\"display:none;\">\n",
              "        \n",
              "  <svg xmlns=\"http://www.w3.org/2000/svg\" height=\"24px\"viewBox=\"0 0 24 24\"\n",
              "       width=\"24px\">\n",
              "    <path d=\"M0 0h24v24H0V0z\" fill=\"none\"/>\n",
              "    <path d=\"M18.56 5.44l.94 2.06.94-2.06 2.06-.94-2.06-.94-.94-2.06-.94 2.06-2.06.94zm-11 1L8.5 8.5l.94-2.06 2.06-.94-2.06-.94L8.5 2.5l-.94 2.06-2.06.94zm10 10l.94 2.06.94-2.06 2.06-.94-2.06-.94-.94-2.06-.94 2.06-2.06.94z\"/><path d=\"M17.41 7.96l-1.37-1.37c-.4-.4-.92-.59-1.43-.59-.52 0-1.04.2-1.43.59L10.3 9.45l-7.72 7.72c-.78.78-.78 2.05 0 2.83L4 21.41c.39.39.9.59 1.41.59.51 0 1.02-.2 1.41-.59l7.78-7.78 2.81-2.81c.8-.78.8-2.07 0-2.86zM5.41 20L4 18.59l7.72-7.72 1.47 1.35L5.41 20z\"/>\n",
              "  </svg>\n",
              "      </button>\n",
              "      \n",
              "  <style>\n",
              "    .colab-df-container {\n",
              "      display:flex;\n",
              "      flex-wrap:wrap;\n",
              "      gap: 12px;\n",
              "    }\n",
              "\n",
              "    .colab-df-convert {\n",
              "      background-color: #E8F0FE;\n",
              "      border: none;\n",
              "      border-radius: 50%;\n",
              "      cursor: pointer;\n",
              "      display: none;\n",
              "      fill: #1967D2;\n",
              "      height: 32px;\n",
              "      padding: 0 0 0 0;\n",
              "      width: 32px;\n",
              "    }\n",
              "\n",
              "    .colab-df-convert:hover {\n",
              "      background-color: #E2EBFA;\n",
              "      box-shadow: 0px 1px 2px rgba(60, 64, 67, 0.3), 0px 1px 3px 1px rgba(60, 64, 67, 0.15);\n",
              "      fill: #174EA6;\n",
              "    }\n",
              "\n",
              "    [theme=dark] .colab-df-convert {\n",
              "      background-color: #3B4455;\n",
              "      fill: #D2E3FC;\n",
              "    }\n",
              "\n",
              "    [theme=dark] .colab-df-convert:hover {\n",
              "      background-color: #434B5C;\n",
              "      box-shadow: 0px 1px 3px 1px rgba(0, 0, 0, 0.15);\n",
              "      filter: drop-shadow(0px 1px 2px rgba(0, 0, 0, 0.3));\n",
              "      fill: #FFFFFF;\n",
              "    }\n",
              "  </style>\n",
              "\n",
              "      <script>\n",
              "        const buttonEl =\n",
              "          document.querySelector('#df-b2f76285-70f7-41c4-a974-0a3dd57f988a button.colab-df-convert');\n",
              "        buttonEl.style.display =\n",
              "          google.colab.kernel.accessAllowed ? 'block' : 'none';\n",
              "\n",
              "        async function convertToInteractive(key) {\n",
              "          const element = document.querySelector('#df-b2f76285-70f7-41c4-a974-0a3dd57f988a');\n",
              "          const dataTable =\n",
              "            await google.colab.kernel.invokeFunction('convertToInteractive',\n",
              "                                                     [key], {});\n",
              "          if (!dataTable) return;\n",
              "\n",
              "          const docLinkHtml = 'Like what you see? Visit the ' +\n",
              "            '<a target=\"_blank\" href=https://colab.research.google.com/notebooks/data_table.ipynb>data table notebook</a>'\n",
              "            + ' to learn more about interactive tables.';\n",
              "          element.innerHTML = '';\n",
              "          dataTable['output_type'] = 'display_data';\n",
              "          await google.colab.output.renderOutput(dataTable, element);\n",
              "          const docLink = document.createElement('div');\n",
              "          docLink.innerHTML = docLinkHtml;\n",
              "          element.appendChild(docLink);\n",
              "        }\n",
              "      </script>\n",
              "    </div>\n",
              "  </div>\n",
              "  "
            ]
          },
          "metadata": {},
          "execution_count": 9
        }
      ],
      "source": [
        "processed_data = {\n",
        "    'Sentence':data_copy.Comment,\n",
        "    'Sentiment':data_copy['Sentiment']\n",
        "}\n",
        "\n",
        "processed_data = pd.DataFrame(processed_data)\n",
        "processed_data.head()"
      ]
    },
    {
      "cell_type": "code",
      "execution_count": 10,
      "id": "aebf0a76",
      "metadata": {
        "execution": {
          "iopub.execute_input": "2022-09-30T03:58:35.356089Z",
          "iopub.status.busy": "2022-09-30T03:58:35.355663Z",
          "iopub.status.idle": "2022-09-30T03:58:35.367585Z",
          "shell.execute_reply": "2022-09-30T03:58:35.366347Z"
        },
        "papermill": {
          "duration": 0.023739,
          "end_time": "2022-09-30T03:58:35.369847",
          "exception": false,
          "start_time": "2022-09-30T03:58:35.346108",
          "status": "completed"
        },
        "tags": [],
        "colab": {
          "base_uri": "https://localhost:8080/"
        },
        "id": "aebf0a76",
        "outputId": "1fc72f31-a4b5-4881-829e-9b3cac9804a0"
      },
      "outputs": [
        {
          "output_type": "execute_result",
          "data": {
            "text/plain": [
              "2    205\n",
              "1     39\n",
              "0     36\n",
              "Name: Sentiment, dtype: int64"
            ]
          },
          "metadata": {},
          "execution_count": 10
        }
      ],
      "source": [
        "processed_data['Sentiment'].value_counts()"
      ]
    },
    {
      "cell_type": "markdown",
      "id": "34027eb3",
      "metadata": {
        "papermill": {
          "duration": 0.007729,
          "end_time": "2022-09-30T03:58:35.385638",
          "exception": false,
          "start_time": "2022-09-30T03:58:35.377909",
          "status": "completed"
        },
        "tags": [],
        "id": "34027eb3"
      },
      "source": [
        "* **Balancing data**"
      ]
    },
    {
      "cell_type": "code",
      "execution_count": 11,
      "id": "653b400e",
      "metadata": {
        "execution": {
          "iopub.execute_input": "2022-09-30T03:58:35.403714Z",
          "iopub.status.busy": "2022-09-30T03:58:35.403219Z",
          "iopub.status.idle": "2022-09-30T03:58:35.418286Z",
          "shell.execute_reply": "2022-09-30T03:58:35.416801Z"
        },
        "papermill": {
          "duration": 0.027101,
          "end_time": "2022-09-30T03:58:35.420669",
          "exception": false,
          "start_time": "2022-09-30T03:58:35.393568",
          "status": "completed"
        },
        "tags": [],
        "id": "653b400e"
      },
      "outputs": [],
      "source": [
        "df_neutral = processed_data[(processed_data['Sentiment']==1)] \n",
        "df_negative = processed_data[(processed_data['Sentiment']==0)]\n",
        "df_positive = processed_data[(processed_data['Sentiment']==2)]\n",
        "\n",
        "# upsample minority classes\n",
        "df_negative_upsampled = resample(df_negative, \n",
        "                                 replace=True,    \n",
        "                                 n_samples= 205, \n",
        "                                 random_state=42)  \n",
        "\n",
        "df_neutral_upsampled = resample(df_neutral, \n",
        "                                 replace=True,    \n",
        "                                 n_samples= 205, \n",
        "                                 random_state=42)  \n",
        "\n",
        "\n",
        "# Concatenate the upsampled dataframes with the neutral dataframe\n",
        "final_data = pd.concat([df_negative_upsampled,df_neutral_upsampled,df_positive])"
      ]
    },
    {
      "cell_type": "code",
      "execution_count": 12,
      "id": "9fd40890",
      "metadata": {
        "execution": {
          "iopub.execute_input": "2022-09-30T03:58:35.439757Z",
          "iopub.status.busy": "2022-09-30T03:58:35.438786Z",
          "iopub.status.idle": "2022-09-30T03:58:35.449212Z",
          "shell.execute_reply": "2022-09-30T03:58:35.448012Z"
        },
        "papermill": {
          "duration": 0.022799,
          "end_time": "2022-09-30T03:58:35.451721",
          "exception": false,
          "start_time": "2022-09-30T03:58:35.428922",
          "status": "completed"
        },
        "tags": [],
        "colab": {
          "base_uri": "https://localhost:8080/"
        },
        "id": "9fd40890",
        "outputId": "33735276-d759-4517-c7ae-d0f8c9866de5"
      },
      "outputs": [
        {
          "output_type": "execute_result",
          "data": {
            "text/plain": [
              "0    205\n",
              "1    205\n",
              "2    205\n",
              "Name: Sentiment, dtype: int64"
            ]
          },
          "metadata": {},
          "execution_count": 12
        }
      ],
      "source": [
        "final_data['Sentiment'].value_counts()"
      ]
    },
    {
      "cell_type": "code",
      "execution_count": 13,
      "id": "568a0391",
      "metadata": {
        "execution": {
          "iopub.execute_input": "2022-09-30T03:58:35.470025Z",
          "iopub.status.busy": "2022-09-30T03:58:35.469534Z",
          "iopub.status.idle": "2022-09-30T03:58:35.479611Z",
          "shell.execute_reply": "2022-09-30T03:58:35.478266Z"
        },
        "papermill": {
          "duration": 0.022407,
          "end_time": "2022-09-30T03:58:35.482226",
          "exception": false,
          "start_time": "2022-09-30T03:58:35.459819",
          "status": "completed"
        },
        "tags": [],
        "colab": {
          "base_uri": "https://localhost:8080/"
        },
        "id": "568a0391",
        "outputId": "d3c301d0-f6d1-4a9a-91e3-c57c8c70301d"
      },
      "outputs": [
        {
          "output_type": "execute_result",
          "data": {
            "text/plain": [
              "['trailer look sick im definitely watching movie',\n",
              " 'actually look like villain trailer',\n",
              " 'movie going push dc top comic book movie disaster early dceu new msheu mess two awesome projekts behind suicide squad peacemaker yeah going rock pun kinda intended',\n",
              " 'damn sure im gon na watchdc seems going right track',\n",
              " 'okay look absolutely incredible dc making look foolish ever even skeptical film definitely seeing opening weekend']"
            ]
          },
          "metadata": {},
          "execution_count": 13
        }
      ],
      "source": [
        "corpus = []\n",
        "for sentence in final_data['Sentence']:\n",
        "    corpus.append(sentence)\n",
        "corpus[0:5]"
      ]
    },
    {
      "cell_type": "code",
      "execution_count": 14,
      "id": "b9c4bba3",
      "metadata": {
        "execution": {
          "iopub.execute_input": "2022-09-30T03:58:35.500695Z",
          "iopub.status.busy": "2022-09-30T03:58:35.500279Z",
          "iopub.status.idle": "2022-09-30T03:58:35.527566Z",
          "shell.execute_reply": "2022-09-30T03:58:35.526157Z"
        },
        "papermill": {
          "duration": 0.039859,
          "end_time": "2022-09-30T03:58:35.530491",
          "exception": false,
          "start_time": "2022-09-30T03:58:35.490632",
          "status": "completed"
        },
        "tags": [],
        "id": "b9c4bba3"
      },
      "outputs": [],
      "source": [
        "from sklearn.feature_extraction.text import CountVectorizer\n",
        "cv = CountVectorizer(max_features=1500)\n",
        "X = cv.fit_transform(corpus).toarray()\n",
        "y = final_data.iloc[:, -1].values"
      ]
    },
    {
      "cell_type": "markdown",
      "id": "0da4226e",
      "metadata": {
        "papermill": {
          "duration": 0.008472,
          "end_time": "2022-09-30T03:58:35.547565",
          "exception": false,
          "start_time": "2022-09-30T03:58:35.539093",
          "status": "completed"
        },
        "tags": [],
        "id": "0da4226e"
      },
      "source": [
        "* **Machine learning model**"
      ]
    },
    {
      "cell_type": "code",
      "execution_count": 15,
      "id": "8eeb1a8d",
      "metadata": {
        "execution": {
          "iopub.execute_input": "2022-09-30T03:58:35.566537Z",
          "iopub.status.busy": "2022-09-30T03:58:35.566015Z",
          "iopub.status.idle": "2022-09-30T03:58:35.601363Z",
          "shell.execute_reply": "2022-09-30T03:58:35.600020Z"
        },
        "papermill": {
          "duration": 0.048206,
          "end_time": "2022-09-30T03:58:35.604213",
          "exception": false,
          "start_time": "2022-09-30T03:58:35.556007",
          "status": "completed"
        },
        "tags": [],
        "colab": {
          "base_uri": "https://localhost:8080/"
        },
        "id": "8eeb1a8d",
        "outputId": "87edd369-f83d-4b6e-c44a-1742ca91da22"
      },
      "outputs": [
        {
          "output_type": "execute_result",
          "data": {
            "text/plain": [
              "GaussianNB()"
            ]
          },
          "metadata": {},
          "execution_count": 15
        }
      ],
      "source": [
        "from sklearn.naive_bayes import GaussianNB\n",
        "from sklearn.model_selection import train_test_split\n",
        "X_train, X_test, y_train, y_test = train_test_split(X, y, test_size=0.3, random_state=0)\n",
        "classifier = GaussianNB()\n",
        "classifier.fit(X_train, y_train)"
      ]
    },
    {
      "cell_type": "markdown",
      "id": "5f938b4d",
      "metadata": {
        "papermill": {
          "duration": 0.007955,
          "end_time": "2022-09-30T03:58:35.620484",
          "exception": false,
          "start_time": "2022-09-30T03:58:35.612529",
          "status": "completed"
        },
        "tags": [],
        "id": "5f938b4d"
      },
      "source": [
        "* **Evaluation**"
      ]
    },
    {
      "cell_type": "code",
      "execution_count": 16,
      "id": "215dbf53",
      "metadata": {
        "execution": {
          "iopub.execute_input": "2022-09-30T03:58:35.639427Z",
          "iopub.status.busy": "2022-09-30T03:58:35.638697Z",
          "iopub.status.idle": "2022-09-30T03:58:35.655365Z",
          "shell.execute_reply": "2022-09-30T03:58:35.653954Z"
        },
        "papermill": {
          "duration": 0.028963,
          "end_time": "2022-09-30T03:58:35.657729",
          "exception": false,
          "start_time": "2022-09-30T03:58:35.628766",
          "status": "completed"
        },
        "tags": [],
        "colab": {
          "base_uri": "https://localhost:8080/"
        },
        "id": "215dbf53",
        "outputId": "f63312cc-93f4-47db-9e5b-3170ae6afc2d"
      },
      "outputs": [
        {
          "output_type": "execute_result",
          "data": {
            "text/plain": [
              "array([[58,  0,  0],\n",
              "       [ 0, 70,  0],\n",
              "       [11,  1, 45]])"
            ]
          },
          "metadata": {},
          "execution_count": 16
        }
      ],
      "source": [
        "from sklearn.metrics import confusion_matrix, accuracy_score\n",
        "y_pred = classifier.predict(X_test)\n",
        "cm = confusion_matrix(y_test, y_pred)\n",
        "cm"
      ]
    },
    {
      "cell_type": "code",
      "execution_count": 17,
      "id": "a2a14c3b",
      "metadata": {
        "execution": {
          "iopub.execute_input": "2022-09-30T03:58:35.677374Z",
          "iopub.status.busy": "2022-09-30T03:58:35.676595Z",
          "iopub.status.idle": "2022-09-30T03:58:35.683913Z",
          "shell.execute_reply": "2022-09-30T03:58:35.682141Z"
        },
        "papermill": {
          "duration": 0.020548,
          "end_time": "2022-09-30T03:58:35.686792",
          "exception": false,
          "start_time": "2022-09-30T03:58:35.666244",
          "status": "completed"
        },
        "tags": [],
        "colab": {
          "base_uri": "https://localhost:8080/"
        },
        "id": "a2a14c3b",
        "outputId": "9d8a8ebf-9926-43bd-fadf-8f68b71d361e"
      },
      "outputs": [
        {
          "output_type": "stream",
          "name": "stdout",
          "text": [
            "accuracy 0.9351351351351351\n"
          ]
        }
      ],
      "source": [
        "nb_score = accuracy_score(y_test, y_pred)\n",
        "print('accuracy',nb_score)"
      ]
    },
    {
      "cell_type": "markdown",
      "id": "3e83ca9e",
      "metadata": {
        "papermill": {
          "duration": 0.008172,
          "end_time": "2022-09-30T03:58:35.720440",
          "exception": false,
          "start_time": "2022-09-30T03:58:35.712268",
          "status": "completed"
        },
        "tags": [],
        "id": "3e83ca9e"
      },
      "source": [
        "**Abhijit Kumar**"
      ]
    }
  ],
  "metadata": {
    "kernelspec": {
      "display_name": "Python 3",
      "language": "python",
      "name": "python3"
    },
    "language_info": {
      "codemirror_mode": {
        "name": "ipython",
        "version": 3
      },
      "file_extension": ".py",
      "mimetype": "text/x-python",
      "name": "python",
      "nbconvert_exporter": "python",
      "pygments_lexer": "ipython3",
      "version": "3.7.12"
    },
    "papermill": {
      "default_parameters": {},
      "duration": 17.558683,
      "end_time": "2022-09-30T03:58:37.155936",
      "environment_variables": {},
      "exception": null,
      "input_path": "__notebook__.ipynb",
      "output_path": "__notebook__.ipynb",
      "parameters": {},
      "start_time": "2022-09-30T03:58:19.597253",
      "version": "2.3.4"
    },
    "colab": {
      "provenance": []
    }
  },
  "nbformat": 4,
  "nbformat_minor": 5
}